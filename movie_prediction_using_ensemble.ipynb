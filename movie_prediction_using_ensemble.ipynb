{
  "cells": [
    {
      "cell_type": "markdown",
      "metadata": {
        "id": "R-AmLbF6j15r"
      },
      "source": [
        "DATA COLLECTION\n",
        "\n"
      ]
    },
    {
      "cell_type": "code",
      "execution_count": null,
      "metadata": {
        "colab": {
          "base_uri": "https://localhost:8080/"
        },
        "id": "Jd9Nq1d8x9S6",
        "outputId": "359c9c8f-b454-4e04-9f0b-dd2a7dee9240"
      },
      "outputs": [
        {
          "output_type": "stream",
          "name": "stdout",
          "text": [
            "Drive already mounted at /content/drive; to attempt to forcibly remount, call drive.mount(\"/content/drive\", force_remount=True).\n"
          ]
        }
      ],
      "source": [
        "#mounting google drive inorder to\n",
        "from google.colab import drive\n",
        "drive.mount('/content/drive')\n",
        "#importing data from gdrive\n",
        "import pandas as pd\n",
        "data = pd.read_csv('/content/drive/MyDrive/RESEARCH_UNDER_JAHANGEER_SIR/movie_metadata.csv')"
      ]
    },
    {
      "cell_type": "code",
      "execution_count": null,
      "metadata": {
        "colab": {
          "base_uri": "https://localhost:8080/"
        },
        "id": "NUV6jpwdiIyk",
        "outputId": "026d7918-77d3-4aeb-ab35-2782e2bf9a25"
      },
      "outputs": [
        {
          "output_type": "stream",
          "name": "stdout",
          "text": [
            "Index(['color', 'director_name', 'num_critic_for_reviews', 'duration',\n",
            "       'director_facebook_likes', 'actor_3_facebook_likes', 'actor_2_name',\n",
            "       'actor_1_facebook_likes', 'gross', 'genres', 'actor_1_name',\n",
            "       'movie_title', 'num_voted_users', 'cast_total_facebook_likes',\n",
            "       'actor_3_name', 'facenumber_in_poster', 'plot_keywords',\n",
            "       'movie_imdb_link', 'num_user_for_reviews', 'language', 'country',\n",
            "       'content_rating', 'budget', 'title_year', 'actor_2_facebook_likes',\n",
            "       'imdb_score', 'aspect_ratio', 'movie_facebook_likes'],\n",
            "      dtype='object')\n"
          ]
        }
      ],
      "source": [
        "print(data.columns)"
      ]
    },
    {
      "cell_type": "markdown",
      "metadata": {
        "id": "wIqd-gI93q8t"
      },
      "source": [
        "DATA CLEANING\n"
      ]
    },
    {
      "cell_type": "code",
      "execution_count": null,
      "metadata": {
        "colab": {
          "base_uri": "https://localhost:8080/"
        },
        "id": "uWf9mUYF3hpn",
        "outputId": "acb67559-02fe-4f3d-c422-67f181f9e875"
      },
      "outputs": [
        {
          "output_type": "execute_result",
          "data": {
            "text/plain": [
              "28"
            ]
          },
          "metadata": {},
          "execution_count": 11
        }
      ],
      "source": [
        "import matplotlib.pyplot as plt\n",
        "import seaborn as sns\n",
        "import numpy as np\n",
        "import missingno as msno\n",
        "from sklearn.preprocessing import StandardScaler, LabelEncoder\n",
        "from nltk.stem import PorterStemmer\n",
        "from sklearn.feature_extraction.text import CountVectorizer\n",
        "#checking what all columns are there\n",
        "len(data.columns)"
      ]
    },
    {
      "cell_type": "code",
      "execution_count": null,
      "metadata": {
        "colab": {
          "base_uri": "https://localhost:8080/",
          "height": 1000
        },
        "id": "SCV07AFNGPUL",
        "outputId": "db66a6e9-7aff-4e22-f7ff-944550f73492"
      },
      "outputs": [
        {
          "output_type": "stream",
          "name": "stdout",
          "text": [
            "color\n",
            "Color               96.697736\n",
            " Black and White     3.302264\n",
            "Name: proportion, dtype: float64\n",
            "language\n",
            "English       95.818908\n",
            "French         0.905459\n",
            "Spanish        0.612517\n",
            "Mandarin       0.399467\n",
            "German         0.266312\n",
            "Japanese       0.266312\n",
            "Cantonese      0.186418\n",
            "Italian        0.186418\n",
            "Portuguese     0.133156\n",
            "Hindi          0.133156\n",
            "Korean         0.133156\n",
            "Norwegian      0.106525\n",
            "Danish         0.079893\n",
            "Thai           0.079893\n",
            "Persian        0.079893\n",
            "Dutch          0.079893\n",
            "Indonesian     0.053262\n",
            "Dari           0.053262\n",
            "Aboriginal     0.053262\n",
            "Aramaic        0.026631\n",
            "Hungarian      0.026631\n",
            "Kazakh         0.026631\n",
            "Maya           0.026631\n",
            "Filipino       0.026631\n",
            "Mongolian      0.026631\n",
            "Czech          0.026631\n",
            "Russian        0.026631\n",
            "Zulu           0.026631\n",
            "Hebrew         0.026631\n",
            "Arabic         0.026631\n",
            "Vietnamese     0.026631\n",
            "Bosnian        0.026631\n",
            "Romanian       0.026631\n",
            "Name: proportion, dtype: float64\n",
            "country\n",
            "USA               2986\n",
            "UK                 318\n",
            "France             101\n",
            "Germany             80\n",
            "Canada              59\n",
            "Australia           39\n",
            "Spain               21\n",
            "Japan               15\n",
            "Hong Kong           13\n",
            "China               13\n",
            "Italy               11\n",
            "New Zealand         11\n",
            "South Korea          8\n",
            "Denmark              8\n",
            "Ireland              7\n",
            "Mexico               6\n",
            "Brazil               5\n",
            "India                5\n",
            "Iran                 4\n",
            "Thailand             4\n",
            "Norway               4\n",
            "Russia               3\n",
            "Argentina            3\n",
            "Netherlands          3\n",
            "South Africa         3\n",
            "Czech Republic       3\n",
            "Hungary              2\n",
            "Taiwan               2\n",
            "Romania              2\n",
            "Finland              1\n",
            "Indonesia            1\n",
            "Israel               1\n",
            "Poland               1\n",
            "Colombia             1\n",
            "New Line             1\n",
            "Iceland              1\n",
            "Aruba                1\n",
            "Peru                 1\n",
            "Belgium              1\n",
            "Georgia              1\n",
            "West Germany         1\n",
            "Chile                1\n",
            "Official site        1\n",
            "Greece               1\n",
            "Afghanistan          1\n",
            "Name: count, dtype: int64\n",
            "country\n",
            "USA       2986\n",
            "Others     350\n",
            "UK         318\n",
            "France     101\n",
            "Name: count, dtype: int64\n"
          ]
        },
        {
          "output_type": "error",
          "ename": "ValueError",
          "evalue": "could not convert string to float: 'Joel David Moore'",
          "traceback": [
            "\u001b[0;31m---------------------------------------------------------------------------\u001b[0m",
            "\u001b[0;31mValueError\u001b[0m                                Traceback (most recent call last)",
            "\u001b[0;32m<ipython-input-12-32ca11709253>\u001b[0m in \u001b[0;36m<cell line: 54>\u001b[0;34m()\u001b[0m\n\u001b[1;32m     52\u001b[0m \u001b[0;34m\u001b[0m\u001b[0m\n\u001b[1;32m     53\u001b[0m \u001b[0;31m# Calculate the correlation matrix\u001b[0m\u001b[0;34m\u001b[0m\u001b[0;34m\u001b[0m\u001b[0m\n\u001b[0;32m---> 54\u001b[0;31m \u001b[0mcorrelation_matrix\u001b[0m \u001b[0;34m=\u001b[0m \u001b[0mdata\u001b[0m\u001b[0;34m.\u001b[0m\u001b[0mcorr\u001b[0m\u001b[0;34m(\u001b[0m\u001b[0;34m)\u001b[0m\u001b[0;34m\u001b[0m\u001b[0;34m\u001b[0m\u001b[0m\n\u001b[0m\u001b[1;32m     55\u001b[0m \u001b[0;34m\u001b[0m\u001b[0m\n\u001b[1;32m     56\u001b[0m \u001b[0;31m# Create a heatmap using Seaborn\u001b[0m\u001b[0;34m\u001b[0m\u001b[0;34m\u001b[0m\u001b[0m\n",
            "\u001b[0;32m/usr/local/lib/python3.10/dist-packages/pandas/core/frame.py\u001b[0m in \u001b[0;36mcorr\u001b[0;34m(self, method, min_periods, numeric_only)\u001b[0m\n\u001b[1;32m  10052\u001b[0m         \u001b[0mcols\u001b[0m \u001b[0;34m=\u001b[0m \u001b[0mdata\u001b[0m\u001b[0;34m.\u001b[0m\u001b[0mcolumns\u001b[0m\u001b[0;34m\u001b[0m\u001b[0;34m\u001b[0m\u001b[0m\n\u001b[1;32m  10053\u001b[0m         \u001b[0midx\u001b[0m \u001b[0;34m=\u001b[0m \u001b[0mcols\u001b[0m\u001b[0;34m.\u001b[0m\u001b[0mcopy\u001b[0m\u001b[0;34m(\u001b[0m\u001b[0;34m)\u001b[0m\u001b[0;34m\u001b[0m\u001b[0;34m\u001b[0m\u001b[0m\n\u001b[0;32m> 10054\u001b[0;31m         \u001b[0mmat\u001b[0m \u001b[0;34m=\u001b[0m \u001b[0mdata\u001b[0m\u001b[0;34m.\u001b[0m\u001b[0mto_numpy\u001b[0m\u001b[0;34m(\u001b[0m\u001b[0mdtype\u001b[0m\u001b[0;34m=\u001b[0m\u001b[0mfloat\u001b[0m\u001b[0;34m,\u001b[0m \u001b[0mna_value\u001b[0m\u001b[0;34m=\u001b[0m\u001b[0mnp\u001b[0m\u001b[0;34m.\u001b[0m\u001b[0mnan\u001b[0m\u001b[0;34m,\u001b[0m \u001b[0mcopy\u001b[0m\u001b[0;34m=\u001b[0m\u001b[0;32mFalse\u001b[0m\u001b[0;34m)\u001b[0m\u001b[0;34m\u001b[0m\u001b[0;34m\u001b[0m\u001b[0m\n\u001b[0m\u001b[1;32m  10055\u001b[0m \u001b[0;34m\u001b[0m\u001b[0m\n\u001b[1;32m  10056\u001b[0m         \u001b[0;32mif\u001b[0m \u001b[0mmethod\u001b[0m \u001b[0;34m==\u001b[0m \u001b[0;34m\"pearson\"\u001b[0m\u001b[0;34m:\u001b[0m\u001b[0;34m\u001b[0m\u001b[0;34m\u001b[0m\u001b[0m\n",
            "\u001b[0;32m/usr/local/lib/python3.10/dist-packages/pandas/core/frame.py\u001b[0m in \u001b[0;36mto_numpy\u001b[0;34m(self, dtype, copy, na_value)\u001b[0m\n\u001b[1;32m   1836\u001b[0m         \u001b[0;32mif\u001b[0m \u001b[0mdtype\u001b[0m \u001b[0;32mis\u001b[0m \u001b[0;32mnot\u001b[0m \u001b[0;32mNone\u001b[0m\u001b[0;34m:\u001b[0m\u001b[0;34m\u001b[0m\u001b[0;34m\u001b[0m\u001b[0m\n\u001b[1;32m   1837\u001b[0m             \u001b[0mdtype\u001b[0m \u001b[0;34m=\u001b[0m \u001b[0mnp\u001b[0m\u001b[0;34m.\u001b[0m\u001b[0mdtype\u001b[0m\u001b[0;34m(\u001b[0m\u001b[0mdtype\u001b[0m\u001b[0;34m)\u001b[0m\u001b[0;34m\u001b[0m\u001b[0;34m\u001b[0m\u001b[0m\n\u001b[0;32m-> 1838\u001b[0;31m         \u001b[0mresult\u001b[0m \u001b[0;34m=\u001b[0m \u001b[0mself\u001b[0m\u001b[0;34m.\u001b[0m\u001b[0m_mgr\u001b[0m\u001b[0;34m.\u001b[0m\u001b[0mas_array\u001b[0m\u001b[0;34m(\u001b[0m\u001b[0mdtype\u001b[0m\u001b[0;34m=\u001b[0m\u001b[0mdtype\u001b[0m\u001b[0;34m,\u001b[0m \u001b[0mcopy\u001b[0m\u001b[0;34m=\u001b[0m\u001b[0mcopy\u001b[0m\u001b[0;34m,\u001b[0m \u001b[0mna_value\u001b[0m\u001b[0;34m=\u001b[0m\u001b[0mna_value\u001b[0m\u001b[0;34m)\u001b[0m\u001b[0;34m\u001b[0m\u001b[0;34m\u001b[0m\u001b[0m\n\u001b[0m\u001b[1;32m   1839\u001b[0m         \u001b[0;32mif\u001b[0m \u001b[0mresult\u001b[0m\u001b[0;34m.\u001b[0m\u001b[0mdtype\u001b[0m \u001b[0;32mis\u001b[0m \u001b[0;32mnot\u001b[0m \u001b[0mdtype\u001b[0m\u001b[0;34m:\u001b[0m\u001b[0;34m\u001b[0m\u001b[0;34m\u001b[0m\u001b[0m\n\u001b[1;32m   1840\u001b[0m             \u001b[0mresult\u001b[0m \u001b[0;34m=\u001b[0m \u001b[0mnp\u001b[0m\u001b[0;34m.\u001b[0m\u001b[0marray\u001b[0m\u001b[0;34m(\u001b[0m\u001b[0mresult\u001b[0m\u001b[0;34m,\u001b[0m \u001b[0mdtype\u001b[0m\u001b[0;34m=\u001b[0m\u001b[0mdtype\u001b[0m\u001b[0;34m,\u001b[0m \u001b[0mcopy\u001b[0m\u001b[0;34m=\u001b[0m\u001b[0;32mFalse\u001b[0m\u001b[0;34m)\u001b[0m\u001b[0;34m\u001b[0m\u001b[0;34m\u001b[0m\u001b[0m\n",
            "\u001b[0;32m/usr/local/lib/python3.10/dist-packages/pandas/core/internals/managers.py\u001b[0m in \u001b[0;36mas_array\u001b[0;34m(self, dtype, copy, na_value)\u001b[0m\n\u001b[1;32m   1730\u001b[0m                 \u001b[0marr\u001b[0m\u001b[0;34m.\u001b[0m\u001b[0mflags\u001b[0m\u001b[0;34m.\u001b[0m\u001b[0mwriteable\u001b[0m \u001b[0;34m=\u001b[0m \u001b[0;32mFalse\u001b[0m\u001b[0;34m\u001b[0m\u001b[0;34m\u001b[0m\u001b[0m\n\u001b[1;32m   1731\u001b[0m         \u001b[0;32melse\u001b[0m\u001b[0;34m:\u001b[0m\u001b[0;34m\u001b[0m\u001b[0;34m\u001b[0m\u001b[0m\n\u001b[0;32m-> 1732\u001b[0;31m             \u001b[0marr\u001b[0m \u001b[0;34m=\u001b[0m \u001b[0mself\u001b[0m\u001b[0;34m.\u001b[0m\u001b[0m_interleave\u001b[0m\u001b[0;34m(\u001b[0m\u001b[0mdtype\u001b[0m\u001b[0;34m=\u001b[0m\u001b[0mdtype\u001b[0m\u001b[0;34m,\u001b[0m \u001b[0mna_value\u001b[0m\u001b[0;34m=\u001b[0m\u001b[0mna_value\u001b[0m\u001b[0;34m)\u001b[0m\u001b[0;34m\u001b[0m\u001b[0;34m\u001b[0m\u001b[0m\n\u001b[0m\u001b[1;32m   1733\u001b[0m             \u001b[0;31m# The underlying data was copied within _interleave, so no need\u001b[0m\u001b[0;34m\u001b[0m\u001b[0;34m\u001b[0m\u001b[0m\n\u001b[1;32m   1734\u001b[0m             \u001b[0;31m# to further copy if copy=True or setting na_value\u001b[0m\u001b[0;34m\u001b[0m\u001b[0;34m\u001b[0m\u001b[0m\n",
            "\u001b[0;32m/usr/local/lib/python3.10/dist-packages/pandas/core/internals/managers.py\u001b[0m in \u001b[0;36m_interleave\u001b[0;34m(self, dtype, na_value)\u001b[0m\n\u001b[1;32m   1792\u001b[0m             \u001b[0;32melse\u001b[0m\u001b[0;34m:\u001b[0m\u001b[0;34m\u001b[0m\u001b[0;34m\u001b[0m\u001b[0m\n\u001b[1;32m   1793\u001b[0m                 \u001b[0marr\u001b[0m \u001b[0;34m=\u001b[0m \u001b[0mblk\u001b[0m\u001b[0;34m.\u001b[0m\u001b[0mget_values\u001b[0m\u001b[0;34m(\u001b[0m\u001b[0mdtype\u001b[0m\u001b[0;34m)\u001b[0m\u001b[0;34m\u001b[0m\u001b[0;34m\u001b[0m\u001b[0m\n\u001b[0;32m-> 1794\u001b[0;31m             \u001b[0mresult\u001b[0m\u001b[0;34m[\u001b[0m\u001b[0mrl\u001b[0m\u001b[0;34m.\u001b[0m\u001b[0mindexer\u001b[0m\u001b[0;34m]\u001b[0m \u001b[0;34m=\u001b[0m \u001b[0marr\u001b[0m\u001b[0;34m\u001b[0m\u001b[0;34m\u001b[0m\u001b[0m\n\u001b[0m\u001b[1;32m   1795\u001b[0m             \u001b[0mitemmask\u001b[0m\u001b[0;34m[\u001b[0m\u001b[0mrl\u001b[0m\u001b[0;34m.\u001b[0m\u001b[0mindexer\u001b[0m\u001b[0;34m]\u001b[0m \u001b[0;34m=\u001b[0m \u001b[0;36m1\u001b[0m\u001b[0;34m\u001b[0m\u001b[0;34m\u001b[0m\u001b[0m\n\u001b[1;32m   1796\u001b[0m \u001b[0;34m\u001b[0m\u001b[0m\n",
            "\u001b[0;31mValueError\u001b[0m: could not convert string to float: 'Joel David Moore'"
          ]
        },
        {
          "output_type": "display_data",
          "data": {
            "text/plain": [
              "<Figure size 800x800 with 1 Axes>"
            ],
            "image/png": "[encoded data removed]"
          },
          "metadata": {}
        }
      ],
      "source": [
        "#visualising all the missing values\n",
        "#sns.heatmap(data.isnull(), cbar=False)\n",
        "data.count()\n",
        "#removing all null values\n",
        "data = data.dropna()\n",
        "\n",
        "#again visualizing null values using another library\n",
        "##msno.matrix(data)\n",
        "percentage = data['color'].value_counts(normalize=True) * 100\n",
        "print(percentage)\n",
        "\n",
        "# dropping colors column because aroung 96% movies are colored so there is no use of colors column\n",
        "data=data.drop(['color'], axis=1)\n",
        "# dropping movies link coloumn because it is of no use in prediction\n",
        "data=data.drop(['movie_imdb_link'], axis=1)\n",
        "\n",
        "percentage = data['language'].value_counts(normalize=True) * 100\n",
        "print(percentage)#Since almost 94% of the movies were in english so there was no point of using language column in prediction\n",
        "data=data.drop(['language'], axis=1)\n",
        "\n",
        "# After checking the stats of country we decided to categorise contries into four parts ('USA', 'UK','France','Others')\n",
        "#here we combined sparse classes\n",
        "print(data['country'].value_counts())\n",
        "data['country'] = data['country'].apply(lambda x: 'Others' if x not in ['USA', 'UK','France'] else x)\n",
        "print(data['country'].value_counts())\n",
        "\n",
        "import matplotlib.pyplot as plt\n",
        "\n",
        "# Create a DataFrame\n",
        "piedata = {'Country': ['USA', 'Others', 'UK', 'France'],\n",
        "        'Value': [2987, 350, 318, 101]}\n",
        "df = pd.DataFrame(piedata)\n",
        "# Plot a pie chart\n",
        "ax = df.plot.pie(y='Value', labels=df['Country'], autopct='%1.1f%%', figsize=(8, 8), legend=False)\n",
        "# Set the title\n",
        "plt.title('Distribution of Values by Country')\n",
        "# Show the pie chart\n",
        "#plt.show()\n",
        "\n",
        "# after applying the code of tokenizing and stemming we got around 6000 unique keywords so it would be difficult to handle it so we will think of dropping the keyword column\n",
        "data=data.drop(['plot_keywords'], axis=1)\n",
        "\n",
        "len(data.columns)\n",
        "\n",
        "# also know as feature processing\n",
        "# Convert categorical variables to numerical using Label Encoding\n",
        "label_encoder = LabelEncoder()\n",
        "categorical_columns = [ 'director_name', 'actor_1_name', 'content_rating','country']\n",
        "\n",
        "for column in categorical_columns:\n",
        "    data[column] = label_encoder.fit_transform(data[column])\n",
        "\n",
        "# Calculate the correlation matrix\n",
        "correlation_matrix = data.corr()\n",
        "\n",
        "# Create a heatmap using Seaborn\n",
        "plt.figure(figsize=(15, 10))\n",
        "sns.heatmap(correlation_matrix, annot=True, linewidths=1,cmap=\"YlOrRd\", fmt=\".2f\", square=True)\n",
        "plt.title('Correlation Heatmap')\n",
        "#plt.show()\n",
        "\n",
        "#seeing the corelation map we are dropping the below column\n",
        "data=data.drop(['movie_facebook_likes'], axis=1)\n",
        "data=data.drop(['num_voted_users'], axis=1)\n",
        "data=data.drop(['num_user_for_reviews'], axis=1)\n",
        "data=data.drop(['actor_2_facebook_likes'], axis=1)\n",
        "data=data.drop(['num_critic_for_reviews'], axis=1)\n",
        "\n",
        "# Calculate the correlation matrix\n",
        "correlation_matrix = data.corr()\n",
        "# Create a heatmap using Seaborn\n",
        "plt.figure(figsize=(15, 8))\n",
        "sns.heatmap(correlation_matrix, annot=True, linewidths=1,cmap=\"YlOrRd\", fmt=\".2f\", square=True)\n",
        "plt.title('Correlation Heatmap')\n",
        "plt.show()\n",
        "\n",
        "# first #creating the target column that predicts the success of movie\n",
        "#though here we used gross and budget but we can also use imdb rating prdiction and then predict whether it was hit or flop (like 1-2.5)\n",
        "# or we can\n",
        "#feature interaction for feature generation\n",
        "# Create the 'Gross_Budget_Percentage' column\n",
        "data['Gross_Budget_Percentage'] = ((data['gross'] - data['budget']) / data['budget']) * 100\n",
        "weight=20\n",
        "# Include 'imdb_score' as a factor\n",
        "data['Target'] = data['Gross_Budget_Percentage'] + (data['imdb_score'] * weight)  # Adjust the weight factor\n",
        "\n",
        "data['Target'].describe()\n",
        "\n",
        "#  creating a 'Target_Class' column:\n",
        "# first 0,10,20\n",
        "# then 50, 500, 1000\n",
        "#then 50,250,500\n",
        "#using binning for feature generation so first movie is checked if it falls left of 100 or right of it and so on the tree continues this is called binning using decision tree split\n",
        "bins = [-float('inf'), 70, 120, 260, float('inf')]  # Adjust the bin boundaries as needed\n",
        "labels = [1,2,3,4]# here 4 represents super hit, then 3 represents blockbuster and then average and flop\n",
        "data['Target_Class'] = pd.cut(data['Target'], bins=bins, labels=labels, right=False)\n",
        "# Drop the intermediate columns if you only want the final 'Target' or 'Target_Class'\n",
        "data = data.drop(['Gross_Budget_Percentage'], axis=1)\n",
        "# Display the updated dataset\n",
        "print(data[['movie_title','Target_Class','Target']] )\n",
        "\n",
        "data['Target_Class'].value_counts()\n",
        "\n",
        "#feature preprocessing\n",
        "# Split the 'genres' column into separate genres\n",
        "genres_split = data['genres'].str.split('|', expand=True)\n",
        "# Perform one-hot encoding on the genres\n",
        "genres_encoded = pd.get_dummies(genres_split, prefix='genre', prefix_sep='_')\n",
        "# Concatenate the encoded genres with the original dataset\n",
        "data = pd.concat([data, genres_encoded], axis=1)\n",
        "# Drop the original 'genres' column and the temporary split columns\n",
        "data = data.drop(['genres'], axis=1)\n",
        "\n",
        "if data.columns.duplicated().any():\n",
        "    print(f\"Duplicate column names found: {data.columns[data.columns.duplicated()]}\")\n",
        "    df_grouped = data.groupby(level=0, axis=1).sum()  # You can use 'join' instead of 'sum' if the data type is string\n",
        "    data = df_grouped\n",
        "    print(f\"Duplicate column names found: {data.columns[data.columns.duplicated()]}\")\n",
        "    print(\"Duplicate columns merged.\")\n",
        "else:\n",
        "    print(\"No duplicate column names.\")"
      ]
    },
    {
      "cell_type": "markdown",
      "metadata": {
        "id": "pykkdBXqGTAl"
      },
      "source": [
        "we need know if the occurrence of missing values are sparsely located or located as a big chunk. This heatmap visualization immediately tells us such tendency. Also, if more than 2 columns have correlation in missing value locations, such correlation will be visualized. (Again, not the case for this dataset, but it is important to know the fact that there is no such correlation in this dataset.)"
      ]
    },
    {
      "cell_type": "code",
      "execution_count": null,
      "metadata": {
        "colab": {
          "base_uri": "https://localhost:8080/"
        },
        "id": "c0oAAmfdjI8z",
        "outputId": "87cb60ec-9e2f-41f1-ed70-ce5678170537"
      },
      "outputs": [
        {
          "output_type": "execute_result",
          "data": {
            "text/plain": [
              "Index(['director_name', 'num_critic_for_reviews', 'duration',\n",
              "       'director_facebook_likes', 'actor_3_facebook_likes', 'actor_2_name',\n",
              "       'actor_1_facebook_likes', 'gross', 'genres', 'actor_1_name',\n",
              "       'movie_title', 'num_voted_users', 'cast_total_facebook_likes',\n",
              "       'actor_3_name', 'facenumber_in_poster', 'num_user_for_reviews',\n",
              "       'country', 'content_rating', 'budget', 'title_year',\n",
              "       'actor_2_facebook_likes', 'imdb_score', 'aspect_ratio',\n",
              "       'movie_facebook_likes'],\n",
              "      dtype='object')"
            ]
          },
          "metadata": {},
          "execution_count": 6
        }
      ],
      "source": [
        "data.columns"
      ]
    },
    {
      "cell_type": "code",
      "execution_count": null,
      "metadata": {
        "id": "cYWVm89kvNTq"
      },
      "outputs": [],
      "source": [
        "data['title_year'].value_counts()"
      ]
    },
    {
      "cell_type": "markdown",
      "metadata": {
        "id": "eNxkb49YiPQH"
      },
      "source": [
        "DATA PROCESSING\n"
      ]
    },
    {
      "cell_type": "markdown",
      "metadata": {
        "id": "MMZlvR2gTDQM"
      },
      "source": [
        "DIVIDING THE DATASET INTO TEST, TRAIN AND VALIDATE"
      ]
    },
    {
      "cell_type": "code",
      "execution_count": null,
      "metadata": {
        "id": "HpJUIAwFeycU"
      },
      "outputs": [],
      "source": [
        "pip install pycaret"
      ]
    },
    {
      "cell_type": "code",
      "execution_count": null,
      "metadata": {
        "id": "WA91ez0LVMtB"
      },
      "outputs": [],
      "source": [
        "from mlxtend.classifier import StackingClassifier\n",
        "from sklearn.model_selection import train_test_split\n",
        "from sklearn.preprocessing import StandardScaler\n",
        "from sklearn.linear_model import LogisticRegression\n",
        "from sklearn import linear_model\n",
        "from sklearn.metrics import accuracy_score, confusion_matrix, classification_report\n",
        "from sklearn.ensemble import RandomForestClassifier\n",
        "from sklearn.ensemble import HistGradientBoostingClassifier\n",
        "from sklearn.ensemble import GradientBoostingClassifier\n",
        "from sklearn.metrics import precision_score\n"
      ]
    },
    {
      "cell_type": "code",
      "execution_count": null,
      "metadata": {
        "id": "fUFNCmoQiRpe"
      },
      "outputs": [],
      "source": [
        "#splitting of data into train,test\n",
        "train, test = train_test_split(data, test_size=0.2, random_state=42, shuffle=True)\n",
        "\n",
        "len(test)\n",
        "\n",
        "# obtaining the train columns of the data means creating a new data after removing the target variable column\n",
        "traindata=train.drop(['Target','Target_Class'],axis=1)\n",
        "non_numeral_columns = traindata.select_dtypes(exclude=[np.number])\n",
        "# Drop the non-numeral columns from the DataFrame\n",
        "traindata = traindata.drop(non_numeral_columns.columns, axis=1)\n",
        "testdata=test.drop(['Target','Target_Class'],axis=1)\n",
        "non_numeral_columns = testdata.select_dtypes(exclude=[np.number])\n",
        "# Drop the non-numeral columns from the DataFrame\n",
        "testdata = testdata.drop(non_numeral_columns.columns, axis=1)\n",
        "\n",
        "if data.columns.duplicated().any():\n",
        "    print(f\"Duplicate column names found: {data.columns[data.columns.duplicated()]}\")\n",
        "\n",
        "# #using pycaret\n",
        "# from pycaret.classification import *\n",
        "# grid = setup(data, target='Target_Class')\n",
        "# # evaluate models and compare models\n",
        "# best = compare_models()\n",
        "# # report the best model\n",
        "# print(best)"
      ]
    },
    {
      "cell_type": "markdown",
      "metadata": {
        "id": "L1Zd-WR3S1S9"
      },
      "source": [
        "MODEL - LOGISTIC REGRESSION\n"
      ]
    },
    {
      "cell_type": "code",
      "execution_count": null,
      "metadata": {
        "colab": {
          "base_uri": "https://localhost:8080/"
        },
        "id": "muX_mN5MIxTE",
        "outputId": "a1f3f256-8b71-4023-fcf9-0c58b4303cf1"
      },
      "outputs": [
        {
          "output_type": "stream",
          "name": "stdout",
          "text": [
            "0.8457446808510638\n",
            "[[160  22   1   0]\n",
            " [ 42  93  18   0]\n",
            " [  0  15 220  12]\n",
            " [  0   0   6 163]]\n",
            "              precision    recall  f1-score   support\n",
            "\n",
            "           1       0.79      0.87      0.83       183\n",
            "           2       0.72      0.61      0.66       153\n",
            "           3       0.90      0.89      0.89       247\n",
            "           4       0.93      0.96      0.95       169\n",
            "\n",
            "    accuracy                           0.85       752\n",
            "   macro avg       0.83      0.83      0.83       752\n",
            "weighted avg       0.84      0.85      0.84       752\n",
            "\n"
          ]
        }
      ],
      "source": [
        "logr = linear_model.LogisticRegression()\n",
        "logr.fit(traindata,train['Target_Class'])\n",
        "predlogr = logr.predict(testdata)\n",
        "print(accuracy_score(test['Target_Class'], predlogr))\n",
        "print(confusion_matrix(test['Target_Class'], predlogr))\n",
        "print(classification_report(test['Target_Class'], predlogr))"
      ]
    },
    {
      "cell_type": "markdown",
      "metadata": {
        "id": "_R9Fv9iFS60U"
      },
      "source": [
        "MODEL - KNN"
      ]
    },
    {
      "cell_type": "code",
      "execution_count": null,
      "metadata": {
        "colab": {
          "base_uri": "https://localhost:8080/"
        },
        "id": "hoEXtfhum37n",
        "outputId": "0ba78ebb-0f49-4dfa-cbb0-6906e3504bd9"
      },
      "outputs": [
        {
          "output_type": "stream",
          "name": "stderr",
          "text": [
            "Exception ignored on calling ctypes callback function: <function ThreadpoolController._find_libraries_with_dl_iterate_phdr.<locals>.match_library_callback at 0x7b4fe76343a0>\n",
            "Traceback (most recent call last):\n",
            "  File \"/usr/local/lib/python3.10/dist-packages/threadpoolctl.py\", line 847, in match_library_callback\n",
            "    self._make_controller_from_path(filepath)\n",
            "  File \"/usr/local/lib/python3.10/dist-packages/threadpoolctl.py\", line 984, in _make_controller_from_path\n",
            "    lib_controller = controller_class(filepath=filepath, prefix=prefix)\n",
            "  File \"/usr/local/lib/python3.10/dist-packages/threadpoolctl.py\", line 111, in __init__\n",
            "    self.dynlib = ctypes.CDLL(filepath, mode=_RTLD_NOLOAD)\n",
            "  File \"/usr/lib/python3.10/ctypes/__init__.py\", line 374, in __init__\n",
            "    self._handle = _dlopen(self._name, mode)\n",
            "OSError: /usr/local/lib/python3.10/dist-packages/scipy.libs/libopenblasp-r0-23e5df77.3.21.dev.so: cannot open shared object file: No such file or directory\n"
          ]
        },
        {
          "output_type": "stream",
          "name": "stdout",
          "text": [
            "0.8643617021276596\n",
            "[[159  23   1   0]\n",
            " [ 28 103  22   0]\n",
            " [  1  17 224   5]\n",
            " [  0   0   5 164]]\n",
            "              precision    recall  f1-score   support\n",
            "\n",
            "           1       0.85      0.87      0.86       183\n",
            "           2       0.72      0.67      0.70       153\n",
            "           3       0.89      0.91      0.90       247\n",
            "           4       0.97      0.97      0.97       169\n",
            "\n",
            "    accuracy                           0.86       752\n",
            "   macro avg       0.86      0.85      0.86       752\n",
            "weighted avg       0.86      0.86      0.86       752\n",
            "\n"
          ]
        }
      ],
      "source": [
        "from sklearn.neighbors import KNeighborsClassifier\n",
        "# tried different values of n_neighbours in order to increase accuracy\n",
        "knn = KNeighborsClassifier(n_neighbors=20,weights='distance')\n",
        "knn.fit(traindata,train['Target_Class'])\n",
        "predknn = knn.predict(testdata)\n",
        "print(accuracy_score(test['Target_Class'], predknn))\n",
        "print(confusion_matrix(test['Target_Class'], predknn))\n",
        "print(classification_report(test['Target_Class'], predknn))"
      ]
    },
    {
      "cell_type": "markdown",
      "metadata": {
        "id": "40NrzIY2nIht"
      },
      "source": [
        "MODEL - ADABOOST"
      ]
    },
    {
      "cell_type": "code",
      "execution_count": null,
      "metadata": {
        "colab": {
          "base_uri": "https://localhost:8080/"
        },
        "id": "4EPf6w26m23Z",
        "outputId": "1dfe75b3-5270-48dc-9357-fb2f44882a34"
      },
      "outputs": [
        {
          "output_type": "stream",
          "name": "stdout",
          "text": [
            "0.7579787234042553\n",
            "[[121  62   0   0]\n",
            " [  1 124  28   0]\n",
            " [  0   5 242   0]\n",
            " [  0   0  86  83]]\n",
            "              precision    recall  f1-score   support\n",
            "\n",
            "           1       0.99      0.66      0.79       183\n",
            "           2       0.65      0.81      0.72       153\n",
            "           3       0.68      0.98      0.80       247\n",
            "           4       1.00      0.49      0.66       169\n",
            "\n",
            "    accuracy                           0.76       752\n",
            "   macro avg       0.83      0.74      0.74       752\n",
            "weighted avg       0.82      0.76      0.75       752\n",
            "\n"
          ]
        }
      ],
      "source": [
        "from sklearn.ensemble import AdaBoostClassifier\n",
        "ada = AdaBoostClassifier(n_estimators=100)\n",
        "ada.fit(traindata,train['Target_Class'])\n",
        "predada = ada.predict(testdata)\n",
        "print(accuracy_score(test['Target_Class'], predada))\n",
        "print(confusion_matrix(test['Target_Class'], predada))\n",
        "print(classification_report(test['Target_Class'], predada))"
      ]
    },
    {
      "cell_type": "markdown",
      "metadata": {
        "id": "Vw_lNdLEiSx8"
      },
      "source": [
        "MODEL - SVM"
      ]
    },
    {
      "cell_type": "code",
      "execution_count": null,
      "metadata": {
        "colab": {
          "base_uri": "https://localhost:8080/"
        },
        "id": "-xet3f44S6g0",
        "outputId": "0cba9751-235f-4c19-a444-cb16f11d43fd"
      },
      "outputs": [
        {
          "name": "stdout",
          "output_type": "stream",
          "text": [
            "0.7539893617021277\n",
            "[[170  12   1   0]\n",
            " [ 71  61  21   0]\n",
            " [ 31   5 209   2]\n",
            " [ 23   0  19 127]]\n",
            "              precision    recall  f1-score   support\n",
            "\n",
            "           1       0.58      0.93      0.71       183\n",
            "           2       0.78      0.40      0.53       153\n",
            "           3       0.84      0.85      0.84       247\n",
            "           4       0.98      0.75      0.85       169\n",
            "\n",
            "    accuracy                           0.75       752\n",
            "   macro avg       0.79      0.73      0.73       752\n",
            "weighted avg       0.80      0.75      0.75       752\n",
            "\n"
          ]
        }
      ],
      "source": [
        "# from sklearn.svm import SVC\n",
        "# svc = SVC()\n",
        "# svc.fit(traindata, train['Target_Class'])\n",
        "# pred = svc.predict(testdata)\n",
        "# print(accuracy_score(test['Target_Class'], pred))\n",
        "# print(confusion_matrix(test['Target_Class'], pred))\n",
        "# print(classification_report(test['Target_Class'], pred))"
      ]
    },
    {
      "cell_type": "markdown",
      "metadata": {
        "id": "9UNiZSPJJBqt"
      },
      "source": [
        "MODEL - GRADIENT BOOSTING"
      ]
    },
    {
      "cell_type": "code",
      "execution_count": null,
      "metadata": {
        "colab": {
          "base_uri": "https://localhost:8080/"
        },
        "id": "bglFT7jXIJFp",
        "outputId": "3bd91f84-1e33-493c-b4bd-577171799cb0"
      },
      "outputs": [
        {
          "output_type": "stream",
          "name": "stdout",
          "text": [
            "0.7313829787234043\n",
            "[[153   2  28   0]\n",
            " [ 14  30 109   0]\n",
            " [  0   2 242   3]\n",
            " [  1   0  43 125]]\n",
            "              precision    recall  f1-score   support\n",
            "\n",
            "           1       0.91      0.84      0.87       183\n",
            "           2       0.88      0.20      0.32       153\n",
            "           3       0.57      0.98      0.72       247\n",
            "           4       0.98      0.74      0.84       169\n",
            "\n",
            "    accuracy                           0.73       752\n",
            "   macro avg       0.84      0.69      0.69       752\n",
            "weighted avg       0.81      0.73      0.70       752\n",
            "\n"
          ]
        }
      ],
      "source": [
        "clf = HistGradientBoostingClassifier(max_iter=1).fit(traindata,train['Target_Class'])\n",
        "predclf = clf.predict(testdata)\n",
        "print(accuracy_score(test['Target_Class'], predclf))\n",
        "print(confusion_matrix(test['Target_Class'], predclf))\n",
        "print(classification_report(test['Target_Class'], predclf))"
      ]
    },
    {
      "cell_type": "markdown",
      "metadata": {
        "id": "pacPqUP8T9UV"
      },
      "source": [
        "MODEL - RANDOM FOREST"
      ]
    },
    {
      "cell_type": "code",
      "execution_count": null,
      "metadata": {
        "colab": {
          "base_uri": "https://localhost:8080/"
        },
        "id": "Pk_SrBOfnW8e",
        "outputId": "20f2a885-df0b-4fd3-8b42-aef9d19141b4"
      },
      "outputs": [
        {
          "output_type": "stream",
          "name": "stdout",
          "text": [
            "0.773936170212766\n",
            "[[164  16   3   0]\n",
            " [ 35  70  48   0]\n",
            " [  7   6 221  13]\n",
            " [  1   1  40 127]]\n",
            "              precision    recall  f1-score   support\n",
            "\n",
            "           1       0.79      0.90      0.84       183\n",
            "           2       0.75      0.46      0.57       153\n",
            "           3       0.71      0.89      0.79       247\n",
            "           4       0.91      0.75      0.82       169\n",
            "\n",
            "    accuracy                           0.77       752\n",
            "   macro avg       0.79      0.75      0.76       752\n",
            "weighted avg       0.78      0.77      0.76       752\n",
            "\n"
          ]
        }
      ],
      "source": [
        "\n",
        "# Create and train the Random Forest model\n",
        "# tried different values of random_state in order to increase accuracy\n",
        "rf_classifier = RandomForestClassifier(max_depth=None, min_samples_split=2, random_state=75)\n",
        "rf_classifier.fit(traindata,train['Target_Class'])\n",
        "pred_rf = rf_classifier.predict(testdata)\n",
        "# Evaluate the performance of the Random Forest model\n",
        "print(accuracy_score(test['Target_Class'], pred_rf))\n",
        "print(confusion_matrix(test['Target_Class'], pred_rf))\n",
        "print(classification_report(test['Target_Class'], pred_rf))"
      ]
    },
    {
      "cell_type": "code",
      "execution_count": null,
      "metadata": {
        "colab": {
          "base_uri": "https://localhost:8080/",
          "height": 718
        },
        "id": "0dyOhYUYpmf-",
        "outputId": "ef0fa8e1-973e-487a-d0a7-28b5b9b1cf6d"
      },
      "outputs": [
        {
          "output_type": "display_data",
          "data": {
            "text/plain": [
              "<Figure size 1000x800 with 1 Axes>"
            ],
            "image/png": "[encoded data removed]"
          },
          "metadata": {}
        }
      ],
      "source": [
        "import pandas as pd\n",
        "import matplotlib.pyplot as plt\n",
        "\n",
        "# Create a DataFrame with the given data\n",
        "data = {'Model': ['Logistic Regression', 'KNN', 'AdaBoost', 'Gradient Boosting', 'Random Forest'],\n",
        "        'Value': [0.845, 0.864, 0.757, 0.730, 0.759]}\n",
        "\n",
        "df = pd.DataFrame(data)\n",
        "\n",
        "# Create a bar graph\n",
        "plt.figure(figsize=(10,8))\n",
        "bars = plt.bar(df['Model'], df['Value'], color=['#FFD1DC', '#FFECB3', '#B2F7E2', '#FFDAB9','#BFD7E2', '#FFBAB9' ])\n",
        "\n",
        "# Add data labels\n",
        "for bar in bars:\n",
        "    yval = bar.get_height()\n",
        "    plt.text(bar.get_x() + bar.get_width() / 2, yval, f'{yval:.3f}', ha='center', va='bottom')\n",
        "\n",
        "# Add labels and title\n",
        "plt.xlabel('Models')\n",
        "plt.ylabel('Value')\n",
        "plt.title('Comparison of Values by Models')\n",
        "\n",
        "# Show the plot\n",
        "plt.show()\n"
      ]
    },
    {
      "cell_type": "markdown",
      "metadata": {
        "id": "Yq_msZg6UV2_"
      },
      "source": [
        "STACKING USING PYTHON LIBRARY\n",
        "repetition of stacking from 1 to 10 and find the mean of accuracy and precision"
      ]
    },
    {
      "cell_type": "code",
      "execution_count": null,
      "metadata": {
        "colab": {
          "base_uri": "https://localhost:8080/"
        },
        "id": "_KqOmXdtUZX7",
        "outputId": "e612ec8c-51f2-44ca-fce5-943b45c90d98"
      },
      "outputs": [
        {
          "output_type": "stream",
          "name": "stdout",
          "text": [
            "0.875\n"
          ]
        }
      ],
      "source": [
        "metaknn = KNeighborsClassifier(n_neighbors=50,weights='distance')\n",
        "clf_stack = StackingClassifier(classifiers =[logr,rf_classifier,clf,ada,knn], meta_classifier = metaknn, use_probas = True, use_features_in_secondary = True)\n",
        "\n",
        "model_stack = clf_stack.fit(traindata, train['Target_Class'])   # training of stacked model\n",
        "pred_stack = model_stack.predict(testdata)\n",
        "\n",
        "acc_stack = accuracy_score(test['Target_Class'], pred_stack)  # evaluating accuracy\n",
        "print(acc_stack)"
      ]
    },
    {
      "cell_type": "code",
      "execution_count": null,
      "metadata": {
        "colab": {
          "base_uri": "https://localhost:8080/"
        },
        "id": "1lj-k_MnMA3D",
        "outputId": "fcd314c4-4cf7-45c0-cf5f-173690990e8d"
      },
      "outputs": [
        {
          "name": "stdout",
          "output_type": "stream",
          "text": [
            "Training epoch 1/10\n",
            "Accuracy after epoch 1: 0.875\n",
            "Training epoch 2/10\n",
            "Accuracy after epoch 2: 0.875\n",
            "Training epoch 3/10\n",
            "Accuracy after epoch 3: 0.875\n",
            "Training epoch 4/10\n",
            "Accuracy after epoch 4: 0.875\n",
            "Training epoch 5/10\n",
            "Accuracy after epoch 5: 0.875\n",
            "Training epoch 6/10\n",
            "Accuracy after epoch 6: 0.875\n",
            "Training epoch 7/10\n",
            "Accuracy after epoch 7: 0.875\n",
            "Training epoch 8/10\n",
            "Accuracy after epoch 8: 0.875\n",
            "Training epoch 9/10\n",
            "Accuracy after epoch 9: 0.875\n",
            "Training epoch 10/10\n",
            "Accuracy after epoch 10: 0.875\n",
            "Final Accuracy after 10 epochs: 0.875\n"
          ]
        }
      ],
      "source": [
        "metaknn = KNeighborsClassifier(n_neighbors=50, weights='distance')\n",
        "clf_stack = StackingClassifier(\n",
        "    classifiers=[logr, rf_classifier, clf, ada, knn],\n",
        "    meta_classifier=metaknn,\n",
        "    use_probas=True,\n",
        "    use_features_in_secondary=True\n",
        ")\n",
        "\n",
        "# Train the model\n",
        "model_stack = clf_stack.fit(traindata, train['Target_Class'])\n",
        "# Make predictions on the test set\n",
        "pred_stack = model_stack.predict(testdata)\n",
        "# Evaluate accuracy\n",
        "acc_stack = accuracy_score(test['Target_Class'], pred_stack)\n",
        "print(f\"Accuracy {acc_stack:.3f}\")"
      ]
    },
    {
      "cell_type": "code",
      "execution_count": null,
      "metadata": {
        "colab": {
          "base_uri": "https://localhost:8080/"
        },
        "id": "klA-YdlYfwEq",
        "outputId": "fe3d94ba-c0b1-49dd-a3ee-d89b357c770e"
      },
      "outputs": [
        {
          "name": "stdout",
          "output_type": "stream",
          "text": [
            "0.875\n"
          ]
        }
      ],
      "source": [
        "metaknn = KNeighborsClassifier(n_neighbors=50,weights='distance')\n",
        "clf_stack = StackingClassifier(classifiers =[logr, rf_classifier], meta_classifier = metaknn, use_probas = True, use_features_in_secondary = True)\n",
        "\n",
        "model_stack = clf_stack.fit(traindata, train['Target_Class'])   # training of stacked model\n",
        "pred_stack = model_stack.predict(testdata)\n",
        "\n",
        "acc_stack = accuracy_score(test['Target_Class'], pred_stack)  # evaluating accuracy\n",
        "print(acc_stack)"
      ]
    },
    {
      "cell_type": "code",
      "execution_count": null,
      "metadata": {
        "colab": {
          "base_uri": "https://localhost:8080/"
        },
        "id": "btZgmJEMfxC3",
        "outputId": "33fb5891-8880-4185-8936-2c164aa94e5c"
      },
      "outputs": [
        {
          "name": "stdout",
          "output_type": "stream",
          "text": [
            "0.875\n"
          ]
        }
      ],
      "source": [
        "metaknn = KNeighborsClassifier(n_neighbors=50,weights='distance')\n",
        "clf_stack = StackingClassifier(classifiers =[rf_classifier, ada], meta_classifier = metaknn, use_probas = True, use_features_in_secondary = True)\n",
        "\n",
        "model_stack = clf_stack.fit(traindata, train['Target_Class'])   # training of stacked model\n",
        "pred_stack = model_stack.predict(testdata)\n",
        "\n",
        "acc_stack = accuracy_score(test['Target_Class'], pred_stack)  # evaluating accuracy\n",
        "print(acc_stack)"
      ]
    },
    {
      "cell_type": "code",
      "execution_count": null,
      "metadata": {
        "colab": {
          "base_uri": "https://localhost:8080/"
        },
        "id": "u9vFHqlNfx0M",
        "outputId": "bc6452c5-9845-4c73-be64-dea2b0337830"
      },
      "outputs": [
        {
          "name": "stdout",
          "output_type": "stream",
          "text": [
            "0.875\n"
          ]
        }
      ],
      "source": [
        "metaknn = KNeighborsClassifier(n_neighbors=50,weights='distance')\n",
        "clf_stack = StackingClassifier(classifiers =[rf_classifier, knn], meta_classifier = metaknn, use_probas = True, use_features_in_secondary = True)\n",
        "\n",
        "model_stack = clf_stack.fit(traindata, train['Target_Class'])   # training of stacked model\n",
        "pred_stack = model_stack.predict(testdata)\n",
        "\n",
        "acc_stack = accuracy_score(test['Target_Class'], pred_stack)  # evaluating accuracy\n",
        "print(acc_stack)"
      ]
    },
    {
      "cell_type": "code",
      "execution_count": null,
      "metadata": {
        "colab": {
          "base_uri": "https://localhost:8080/"
        },
        "id": "gB2SlmrPfzLx",
        "outputId": "410f8c52-b3ad-4b1e-9fa7-b59a13f245a5"
      },
      "outputs": [
        {
          "name": "stdout",
          "output_type": "stream",
          "text": [
            "0.875\n"
          ]
        }
      ],
      "source": [
        "metaknn = KNeighborsClassifier(n_neighbors=50,weights='distance')\n",
        "clf_stack = StackingClassifier(classifiers =[logr,ada], meta_classifier = metaknn, use_probas = True, use_features_in_secondary = True)\n",
        "\n",
        "model_stack = clf_stack.fit(traindata, train['Target_Class'])   # training of stacked model\n",
        "pred_stack = model_stack.predict(testdata)\n",
        "\n",
        "acc_stack = accuracy_score(test['Target_Class'], pred_stack)  # evaluating accuracy\n",
        "print(acc_stack)"
      ]
    },
    {
      "cell_type": "code",
      "execution_count": null,
      "metadata": {
        "colab": {
          "base_uri": "https://localhost:8080/"
        },
        "id": "M3kF0tFRfz3-",
        "outputId": "b20e1542-f7c8-4199-a754-38bc0a7f148f"
      },
      "outputs": [
        {
          "name": "stdout",
          "output_type": "stream",
          "text": [
            "0.8736702127659575\n"
          ]
        }
      ],
      "source": [
        "metaknn = KNeighborsClassifier(n_neighbors=50,weights='distance')\n",
        "clf_stack = StackingClassifier(classifiers =[logr, knn], meta_classifier = metaknn, use_probas = True, use_features_in_secondary = True)\n",
        "\n",
        "model_stack = clf_stack.fit(traindata, train['Target_Class'])   # training of stacked model\n",
        "pred_stack = model_stack.predict(testdata)\n",
        "\n",
        "acc_stack = accuracy_score(test['Target_Class'], pred_stack)  # evaluating accuracy\n",
        "print(acc_stack)"
      ]
    },
    {
      "cell_type": "code",
      "execution_count": null,
      "metadata": {
        "colab": {
          "base_uri": "https://localhost:8080/"
        },
        "id": "uh1gAuEnf0eu",
        "outputId": "fa11e29d-1aff-4cab-bb66-77a23005d738"
      },
      "outputs": [
        {
          "name": "stdout",
          "output_type": "stream",
          "text": [
            "0.8736702127659575\n"
          ]
        }
      ],
      "source": [
        "metaknn = KNeighborsClassifier(n_neighbors=50,weights='distance')\n",
        "clf_stack = StackingClassifier(classifiers =[ada, knn], meta_classifier = metaknn, use_probas = True, use_features_in_secondary = True)\n",
        "\n",
        "model_stack = clf_stack.fit(traindata, train['Target_Class'])   # training of stacked model\n",
        "pred_stack = model_stack.predict(testdata)\n",
        "\n",
        "acc_stack = accuracy_score(test['Target_Class'], pred_stack)  # evaluating accuracy\n",
        "print(acc_stack)"
      ]
    },
    {
      "cell_type": "code",
      "execution_count": null,
      "metadata": {
        "colab": {
          "base_uri": "https://localhost:8080/"
        },
        "id": "Sq3MArHHgOBG",
        "outputId": "806b92bf-4f77-4338-fc02-f75fb6bd0583"
      },
      "outputs": [
        {
          "name": "stdout",
          "output_type": "stream",
          "text": [
            "0.8550531914893617\n"
          ]
        }
      ],
      "source": [
        "metaknn = KNeighborsClassifier(n_neighbors=50,weights='distance')\n",
        "clf_stack = StackingClassifier(classifiers =[logr, rf_classifier, ada], meta_classifier = metaknn, use_probas = True, use_features_in_secondary = True)\n",
        "\n",
        "model_stack = clf_stack.fit(traindata, train['Target_Class'])   # training of stacked model\n",
        "pred_stack = model_stack.predict(testdata)\n",
        "\n",
        "acc_stack = accuracy_score(test['Target_Class'], pred_stack)  # evaluating accuracy\n",
        "print(acc_stack)"
      ]
    },
    {
      "cell_type": "code",
      "execution_count": null,
      "metadata": {
        "colab": {
          "base_uri": "https://localhost:8080/"
        },
        "id": "8frHQpzagN0v",
        "outputId": "ed0ddf22-0c99-4643-c5d2-b764d49e5e6e"
      },
      "outputs": [
        {
          "name": "stderr",
          "output_type": "stream",
          "text": [
            "/usr/local/lib/python3.10/dist-packages/sklearn/linear_model/_logistic.py:458: ConvergenceWarning: lbfgs failed to converge (status=1):\n",
            "STOP: TOTAL NO. of ITERATIONS REACHED LIMIT.\n",
            "\n",
            "Increase the number of iterations (max_iter) or scale the data as shown in:\n",
            "    https://scikit-learn.org/stable/modules/preprocessing.html\n",
            "Please also refer to the documentation for alternative solver options:\n",
            "    https://scikit-learn.org/stable/modules/linear_model.html#logistic-regression\n",
            "  n_iter_i = _check_optimize_result(\n"
          ]
        },
        {
          "name": "stdout",
          "output_type": "stream",
          "text": [
            "0.8736702127659575\n"
          ]
        }
      ],
      "source": [
        "metaknn = KNeighborsClassifier(n_neighbors=50,weights='distance')\n",
        "clf_stack = StackingClassifier(classifiers =[logr, rf_classifier, knn], meta_classifier = metaknn, use_probas = True, use_features_in_secondary = True)\n",
        "\n",
        "model_stack = clf_stack.fit(traindata, train['Target_Class'])   # training of stacked model\n",
        "pred_stack = model_stack.predict(testdata)\n",
        "\n",
        "acc_stack = accuracy_score(test['Target_Class'], pred_stack)  # evaluating accuracy\n",
        "print(acc_stack)"
      ]
    },
    {
      "cell_type": "code",
      "execution_count": null,
      "metadata": {
        "colab": {
          "base_uri": "https://localhost:8080/"
        },
        "id": "JX9eeeE3gNpF",
        "outputId": "2ebc614a-b5e2-410b-aa95-dcc8affc56d0"
      },
      "outputs": [
        {
          "name": "stderr",
          "output_type": "stream",
          "text": [
            "/usr/local/lib/python3.10/dist-packages/sklearn/linear_model/_logistic.py:458: ConvergenceWarning: lbfgs failed to converge (status=1):\n",
            "STOP: TOTAL NO. of ITERATIONS REACHED LIMIT.\n",
            "\n",
            "Increase the number of iterations (max_iter) or scale the data as shown in:\n",
            "    https://scikit-learn.org/stable/modules/preprocessing.html\n",
            "Please also refer to the documentation for alternative solver options:\n",
            "    https://scikit-learn.org/stable/modules/linear_model.html#logistic-regression\n",
            "  n_iter_i = _check_optimize_result(\n"
          ]
        },
        {
          "name": "stdout",
          "output_type": "stream",
          "text": [
            "0.8736702127659575\n"
          ]
        }
      ],
      "source": [
        "metaknn = KNeighborsClassifier(n_neighbors=50,weights='distance')\n",
        "clf_stack = StackingClassifier(classifiers =[logr, ada, knn], meta_classifier = metaknn, use_probas = True, use_features_in_secondary = True)\n",
        "\n",
        "model_stack = clf_stack.fit(traindata, train['Target_Class'])   # training of stacked model\n",
        "pred_stack = model_stack.predict(testdata)\n",
        "\n",
        "acc_stack = accuracy_score(test['Target_Class'], pred_stack)  # evaluating accuracy\n",
        "print(acc_stack)"
      ]
    },
    {
      "cell_type": "code",
      "execution_count": null,
      "metadata": {
        "colab": {
          "base_uri": "https://localhost:8080/"
        },
        "id": "k4hV9PjLgTp7",
        "outputId": "30056d60-8cf4-4ebb-e883-d93b25b75b26"
      },
      "outputs": [
        {
          "name": "stdout",
          "output_type": "stream",
          "text": [
            "0.8736702127659575\n"
          ]
        }
      ],
      "source": [
        "metaknn = KNeighborsClassifier(n_neighbors=50,weights='distance')\n",
        "clf_stack = StackingClassifier(classifiers =[ rf_classifier, ada, knn], meta_classifier = metaknn, use_probas = True, use_features_in_secondary = True)\n",
        "\n",
        "model_stack = clf_stack.fit(traindata, train['Target_Class'])   # training of stacked model\n",
        "pred_stack = model_stack.predict(testdata)\n",
        "\n",
        "acc_stack = accuracy_score(test['Target_Class'], pred_stack)  # evaluating accuracy\n",
        "print(acc_stack)"
      ]
    },
    {
      "cell_type": "code",
      "execution_count": null,
      "metadata": {
        "colab": {
          "base_uri": "https://localhost:8080/"
        },
        "id": "q01-VNIcU6QJ",
        "outputId": "94952e8a-3371-4dc4-e450-2284d9dbb2cf"
      },
      "outputs": [
        {
          "name": "stderr",
          "output_type": "stream",
          "text": [
            "/usr/local/lib/python3.10/dist-packages/sklearn/linear_model/_logistic.py:458: ConvergenceWarning: lbfgs failed to converge (status=1):\n",
            "STOP: TOTAL NO. of ITERATIONS REACHED LIMIT.\n",
            "\n",
            "Increase the number of iterations (max_iter) or scale the data as shown in:\n",
            "    https://scikit-learn.org/stable/modules/preprocessing.html\n",
            "Please also refer to the documentation for alternative solver options:\n",
            "    https://scikit-learn.org/stable/modules/linear_model.html#logistic-regression\n",
            "  n_iter_i = _check_optimize_result(\n"
          ]
        },
        {
          "name": "stdout",
          "output_type": "stream",
          "text": [
            "0.8736702127659575\n"
          ]
        }
      ],
      "source": [
        "metaknn = KNeighborsClassifier(n_neighbors=50,weights='distance')\n",
        "clf_stack = StackingClassifier(classifiers =[logr, rf_classifier, ada, knn], meta_classifier = metaknn, use_probas = True, use_features_in_secondary = True)\n",
        "\n",
        "model_stack = clf_stack.fit(traindata, train['Target_Class'])   # training of stacked model\n",
        "pred_stack = model_stack.predict(testdata)\n",
        "\n",
        "acc_stack = accuracy_score(test['Target_Class'], pred_stack)  # evaluating accuracy\n",
        "print(acc_stack)"
      ]
    }
  ],
  "metadata": {
    "colab": {
      "provenance": [],
      "toc_visible": true
    },
    "kernelspec": {
      "display_name": "Python 3",
      "name": "python3"
    },
    "language_info": {
      "name": "python"
    }
  },
  "nbformat": 4,
  "nbformat_minor": 0
}